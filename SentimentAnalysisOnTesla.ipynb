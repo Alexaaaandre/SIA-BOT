{
 "cells": [
  {
   "cell_type": "code",
   "execution_count": 1,
   "metadata": {},
   "outputs": [],
   "source": [
    "import pandas as pd\n",
    "import nltk\n",
    "from nltk.sentiment.vader import SentimentIntensityAnalyzer"
   ]
  },
  {
   "cell_type": "code",
   "execution_count": 2,
   "metadata": {},
   "outputs": [],
   "source": [
    "data = pd.read_csv(r\"C:\\Users\\alrem\\Desktop\\données EURUSD\\data_elonmusk.csv\", encoding='latin1')"
   ]
  },
  {
   "cell_type": "code",
   "execution_count": null,
   "metadata": {},
   "outputs": [],
   "source": [
    "data"
   ]
  },
  {
   "cell_type": "code",
   "execution_count": 4,
   "metadata": {},
   "outputs": [],
   "source": [
    "tweets = data[\"Tweet\"]"
   ]
  },
  {
   "cell_type": "code",
   "execution_count": null,
   "metadata": {},
   "outputs": [],
   "source": [
    "tweets"
   ]
  },
  {
   "cell_type": "code",
   "execution_count": null,
   "metadata": {},
   "outputs": [],
   "source": [
    "nltk.download('vader_lexicon')\n",
    "analyzer = SentimentIntensityAnalyzer()"
   ]
  },
  {
   "cell_type": "code",
   "execution_count": 7,
   "metadata": {},
   "outputs": [],
   "source": [
    "def analyze_sentiment(tweet):\n",
    "    sentiment = analyzer.polarity_scores(tweet)\n",
    "    compound_score = sentiment['compound']\n",
    "    if compound_score >= 0.5:\n",
    "        return \"Positive\"\n",
    "    elif compound_score <= -0.5:\n",
    "        return \"Negative\"\n",
    "    else:\n",
    "        return \"Neutral\""
   ]
  },
  {
   "cell_type": "code",
   "execution_count": 8,
   "metadata": {},
   "outputs": [],
   "source": [
    "tesla_tweets = data[data['Tweet'].str.lower().str.contains(\"tesla\",\"TSLA\")]"
   ]
  },
  {
   "cell_type": "code",
   "execution_count": null,
   "metadata": {},
   "outputs": [],
   "source": [
    "tesla_tweets['Sentiment'] = tesla_tweets['Tweet'].apply(analyze_sentiment)"
   ]
  },
  {
   "cell_type": "code",
   "execution_count": null,
   "metadata": {},
   "outputs": [],
   "source": [
    "print(tesla_tweets[['Tweet', 'Sentiment']])"
   ]
  },
  {
   "cell_type": "code",
   "execution_count": 13,
   "metadata": {},
   "outputs": [],
   "source": [
    "# Initialisation des variables\n",
    "current_position = \"None\"  # Au début, aucune position n'est ouverte\n",
    "cash_balance = 10000.0  # Solde de trésorerie initial\n",
    "portfolio = {}  # Dictionnaire pour suivre les positions ouvertes\n",
    "\n",
    "\n",
    "\n",
    "# Logique de trading\n",
    "for i in range(len(tesla_tweets)):\n",
    "    tweet_sentiment = tesla_tweets.iloc[i]['Sentiment'] # Avec la fonction iloc, il est possible de récupérer toutes les données des variables à cette date\n",
    "    \n",
    "    # Simulez ici la logique d'achat et de vente en fonction du sentiment\n",
    "    if tweet_sentiment == \"Positive\":\n",
    "        if current_position == \"None\" and cash_balance > 0:\n",
    "            # Achat de Tesla\n",
    "            position_size = 0.2 * cash_balance  # Exemple : investir 20% du solde en TSLA\n",
    "            cash_balance -= position_size # Cela soustrait le montant de la position achetée (position_size) du solde de trésorerie actuel\n",
    "            portfolio[\"TSLA\"] = position_size # Cela ajoute la position achetée dans le dictionnaire portfolio en utilisant le symbole de l'action \"TSLA\" comme clé et la taille de la position (position_size) comme valeur. \n",
    "            current_position = \"Long\"\n",
    "            print(\"Achat de Tesla\")\n",
    "    elif tweet_sentiment == \"Negative\":\n",
    "        if current_position == \"Long\" and \"TSLA\" in portfolio:\n",
    "            # Vente de Tesla\n",
    "            position_size = portfolio[\"TSLA\"]\n",
    "            cash_balance += position_size\n",
    "            del portfolio[\"TSLA\"]\n",
    "            current_position = \"None\"\n",
    "            print(\"Vente de Tesla\")\n",
    "\n",
    "# Afficher le solde final du portefeuille\n",
    "print(\"Solde final du portefeuille :\", cash_balance)"
   ]
  },
  {
   "cell_type": "code",
   "execution_count": null,
   "metadata": {},
   "outputs": [],
   "source": [
    "# Importez les bibliothèques nécessaires de QuantConnect\n",
    "from AlgorithmImports import *\n",
    "from AlphaModelImports import *\n",
    "\n",
    "class SentimentBasedTradingAlgorithm(QCAlgorithm):\n",
    "    def Initialize(self):\n",
    "        self.SetCash(100000)  # Solde de départ en USD\n",
    "        self.SetStartDate(2023, 1, 1)\n",
    "        self.SetEndDate(2023, 1, 31)\n",
    "        \n",
    "        # Ajoutez le symbole de l'action Tesla\n",
    "        self.tesla = self.AddEquity(\"TSLA\")\n",
    "        \n",
    "        # Créez un résolveur de sentiment (à adapter en fonction de votre source de données)\n",
    "        self.sentiment_resolver = SentimentResolver()\n",
    "        \n",
    "        # Planifiez la fonction de trading pour chaque jour de trading\n",
    "        self.Schedule.On(self.DateRules.EveryDay(\"TSLA\"), self.TimeRules.AfterMarketOpen(\"TSLA\"), self.Trade)\n",
    "\n",
    "    def Trade(self):\n",
    "        # Obtenez le sentiment actuel des tweets sur Tesla (à adapter en fonction de votre résolveur de sentiment)\n",
    "        tweet_sentiment = self.sentiment_resolver.analyze_sentiment()\n",
    "        \n",
    "        # Si le sentiment est positif, achetez des actions Tesla\n",
    "        if tweet_sentiment == \"Positive\":\n",
    "            self.SetHoldings(\"TSLA\", 0.5)  # Investissez 50 % du capital dans Tesla\n",
    "        # Si le sentiment est négatif, vendez des actions Tesla\n",
    "        elif tweet_sentiment == \"Negative\":\n",
    "            self.SetHoldings(\"TSLA\", 0)  # Liquidation de la position\n",
    "        \n",
    "        # Affichez le sentiment et les positions\n",
    "        self.Debug(f\"Sentiment: {tweet_sentiment}\")\n",
    "        self.Debug(f\"Portfolio Holdings: {self.Portfolio['TSLA'].Quantity}\")\n",
    "\n",
    "# Classe SentimentResolver (à adapter en fonction de votre source de données)\n",
    "class SentimentResolver:\n",
    "    def analyze_sentiment(tweet):\n",
    "        sentiment = analyzer.polarity_scores(tweet)\n",
    "        compound_score = sentiment['compound']\n",
    "        if compound_score >= 0.5:\n",
    "            return \"Positive\"\n",
    "        elif compound_score <= -0.5:\n",
    "            return \"Negative\"\n",
    "        else:\n",
    "            return \"Neutral\"\n",
    "        \n",
    "# Lancez l'algorithme\n",
    "from AlgorithmImports import *\n",
    "from AlphaModelImports import *\n",
    "SentimentBasedTradingAlgorithm()"
   ]
  }
 ],
 "metadata": {
  "kernelspec": {
   "display_name": "Python 3",
   "language": "python",
   "name": "python3"
  },
  "language_info": {
   "codemirror_mode": {
    "name": "ipython",
    "version": 3
   },
   "file_extension": ".py",
   "mimetype": "text/x-python",
   "name": "python",
   "nbconvert_exporter": "python",
   "pygments_lexer": "ipython3",
   "version": "3.11.3"
  }
 },
 "nbformat": 4,
 "nbformat_minor": 2
}
