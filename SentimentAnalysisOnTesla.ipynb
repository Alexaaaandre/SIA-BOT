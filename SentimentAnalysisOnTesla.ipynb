{
 "cells": [
  {
   "cell_type": "code",
   "execution_count": 1,
   "metadata": {},
   "outputs": [],
   "source": [
    "import pandas as pd\n",
    "import nltk\n",
    "from nltk.sentiment.vader import SentimentIntensityAnalyzer"
   ]
  },
  {
   "cell_type": "code",
   "execution_count": 2,
   "metadata": {},
   "outputs": [],
   "source": [
    "data = pd.read_csv(r\"C:\\Users\\alrem\\Desktop\\données EURUSD\\data_elonmusk.csv\", encoding='latin1')"
   ]
  },
  {
   "cell_type": "code",
   "execution_count": 3,
   "metadata": {},
   "outputs": [
    {
     "data": {
      "text/html": [
       "<div>\n",
       "<style scoped>\n",
       "    .dataframe tbody tr th:only-of-type {\n",
       "        vertical-align: middle;\n",
       "    }\n",
       "\n",
       "    .dataframe tbody tr th {\n",
       "        vertical-align: top;\n",
       "    }\n",
       "\n",
       "    .dataframe thead th {\n",
       "        text-align: right;\n",
       "    }\n",
       "</style>\n",
       "<table border=\"1\" class=\"dataframe\">\n",
       "  <thead>\n",
       "    <tr style=\"text-align: right;\">\n",
       "      <th></th>\n",
       "      <th>row ID</th>\n",
       "      <th>Tweet</th>\n",
       "      <th>Time</th>\n",
       "      <th>Retweet from</th>\n",
       "      <th>User</th>\n",
       "    </tr>\n",
       "  </thead>\n",
       "  <tbody>\n",
       "    <tr>\n",
       "      <th>0</th>\n",
       "      <td>Row0</td>\n",
       "      <td>@MeltingIce Assuming max acceleration of 2 to ...</td>\n",
       "      <td>2017-09-29 17:39:19</td>\n",
       "      <td>NaN</td>\n",
       "      <td>elonmusk</td>\n",
       "    </tr>\n",
       "    <tr>\n",
       "      <th>1</th>\n",
       "      <td>Row1</td>\n",
       "      <td>RT @SpaceX: BFR is capable of transporting sat...</td>\n",
       "      <td>2017-09-29 10:44:54</td>\n",
       "      <td>SpaceX</td>\n",
       "      <td>elonmusk</td>\n",
       "    </tr>\n",
       "    <tr>\n",
       "      <th>2</th>\n",
       "      <td>Row2</td>\n",
       "      <td>@bigajm Yup :)</td>\n",
       "      <td>2017-09-29 10:39:57</td>\n",
       "      <td>NaN</td>\n",
       "      <td>elonmusk</td>\n",
       "    </tr>\n",
       "    <tr>\n",
       "      <th>3</th>\n",
       "      <td>Row3</td>\n",
       "      <td>Part 2 https://t.co/8Fvu57muhM</td>\n",
       "      <td>2017-09-29 09:56:12</td>\n",
       "      <td>NaN</td>\n",
       "      <td>elonmusk</td>\n",
       "    </tr>\n",
       "    <tr>\n",
       "      <th>4</th>\n",
       "      <td>Row4</td>\n",
       "      <td>Fly to most places on Earth in under 30 mins a...</td>\n",
       "      <td>2017-09-29 09:19:21</td>\n",
       "      <td>NaN</td>\n",
       "      <td>elonmusk</td>\n",
       "    </tr>\n",
       "    <tr>\n",
       "      <th>...</th>\n",
       "      <td>...</td>\n",
       "      <td>...</td>\n",
       "      <td>...</td>\n",
       "      <td>...</td>\n",
       "      <td>...</td>\n",
       "    </tr>\n",
       "    <tr>\n",
       "      <th>3213</th>\n",
       "      <td>Row3213</td>\n",
       "      <td>@YOUSRC Amos's article was fair, but his edito...</td>\n",
       "      <td>2012-11-20 08:52:03</td>\n",
       "      <td>NaN</td>\n",
       "      <td>elonmusk</td>\n",
       "    </tr>\n",
       "    <tr>\n",
       "      <th>3214</th>\n",
       "      <td>Row3214</td>\n",
       "      <td>These articles in Space News describe why Aria...</td>\n",
       "      <td>2012-11-20 08:38:31</td>\n",
       "      <td>NaN</td>\n",
       "      <td>elonmusk</td>\n",
       "    </tr>\n",
       "    <tr>\n",
       "      <th>3215</th>\n",
       "      <td>Row3215</td>\n",
       "      <td>Was misquoted by BBC as saying Europe's rocket...</td>\n",
       "      <td>2012-11-20 08:30:44</td>\n",
       "      <td>NaN</td>\n",
       "      <td>elonmusk</td>\n",
       "    </tr>\n",
       "    <tr>\n",
       "      <th>3216</th>\n",
       "      <td>Row3216</td>\n",
       "      <td>Just returned from a trip to London and Oxford...</td>\n",
       "      <td>2012-11-19 08:59:46</td>\n",
       "      <td>NaN</td>\n",
       "      <td>elonmusk</td>\n",
       "    </tr>\n",
       "    <tr>\n",
       "      <th>3217</th>\n",
       "      <td>Row3217</td>\n",
       "      <td>RT @Jon_Favreau: My Model S just arrived and I...</td>\n",
       "      <td>2012-11-16 17:59:47</td>\n",
       "      <td>Jon_Favreau</td>\n",
       "      <td>elonmusk</td>\n",
       "    </tr>\n",
       "  </tbody>\n",
       "</table>\n",
       "<p>3218 rows × 5 columns</p>\n",
       "</div>"
      ],
      "text/plain": [
       "       row ID                                              Tweet   \n",
       "0        Row0  @MeltingIce Assuming max acceleration of 2 to ...  \\\n",
       "1        Row1  RT @SpaceX: BFR is capable of transporting sat...   \n",
       "2        Row2                                     @bigajm Yup :)   \n",
       "3        Row3                     Part 2 https://t.co/8Fvu57muhM   \n",
       "4        Row4  Fly to most places on Earth in under 30 mins a...   \n",
       "...       ...                                                ...   \n",
       "3213  Row3213  @YOUSRC Amos's article was fair, but his edito...   \n",
       "3214  Row3214  These articles in Space News describe why Aria...   \n",
       "3215  Row3215  Was misquoted by BBC as saying Europe's rocket...   \n",
       "3216  Row3216  Just returned from a trip to London and Oxford...   \n",
       "3217  Row3217  RT @Jon_Favreau: My Model S just arrived and I...   \n",
       "\n",
       "                     Time Retweet from      User  \n",
       "0     2017-09-29 17:39:19          NaN  elonmusk  \n",
       "1     2017-09-29 10:44:54       SpaceX  elonmusk  \n",
       "2     2017-09-29 10:39:57          NaN  elonmusk  \n",
       "3     2017-09-29 09:56:12          NaN  elonmusk  \n",
       "4     2017-09-29 09:19:21          NaN  elonmusk  \n",
       "...                   ...          ...       ...  \n",
       "3213  2012-11-20 08:52:03          NaN  elonmusk  \n",
       "3214  2012-11-20 08:38:31          NaN  elonmusk  \n",
       "3215  2012-11-20 08:30:44          NaN  elonmusk  \n",
       "3216  2012-11-19 08:59:46          NaN  elonmusk  \n",
       "3217  2012-11-16 17:59:47  Jon_Favreau  elonmusk  \n",
       "\n",
       "[3218 rows x 5 columns]"
      ]
     },
     "execution_count": 3,
     "metadata": {},
     "output_type": "execute_result"
    }
   ],
   "source": [
    "data"
   ]
  },
  {
   "cell_type": "code",
   "execution_count": 4,
   "metadata": {},
   "outputs": [],
   "source": [
    "tweets = data[\"Tweet\"]"
   ]
  },
  {
   "cell_type": "code",
   "execution_count": 5,
   "metadata": {},
   "outputs": [
    {
     "data": {
      "text/plain": [
       "0       @MeltingIce Assuming max acceleration of 2 to ...\n",
       "1       RT @SpaceX: BFR is capable of transporting sat...\n",
       "2                                          @bigajm Yup :)\n",
       "3                          Part 2 https://t.co/8Fvu57muhM\n",
       "4       Fly to most places on Earth in under 30 mins a...\n",
       "                              ...                        \n",
       "3213    @YOUSRC Amos's article was fair, but his edito...\n",
       "3214    These articles in Space News describe why Aria...\n",
       "3215    Was misquoted by BBC as saying Europe's rocket...\n",
       "3216    Just returned from a trip to London and Oxford...\n",
       "3217    RT @Jon_Favreau: My Model S just arrived and I...\n",
       "Name: Tweet, Length: 3218, dtype: object"
      ]
     },
     "execution_count": 5,
     "metadata": {},
     "output_type": "execute_result"
    }
   ],
   "source": [
    "tweets"
   ]
  },
  {
   "cell_type": "code",
   "execution_count": 6,
   "metadata": {},
   "outputs": [
    {
     "name": "stderr",
     "output_type": "stream",
     "text": [
      "[nltk_data] Downloading package vader_lexicon to\n",
      "[nltk_data]     C:\\Users\\alrem\\AppData\\Roaming\\nltk_data...\n",
      "[nltk_data]   Package vader_lexicon is already up-to-date!\n"
     ]
    }
   ],
   "source": [
    "nltk.download('vader_lexicon')\n",
    "analyzer = SentimentIntensityAnalyzer()"
   ]
  },
  {
   "cell_type": "code",
   "execution_count": 7,
   "metadata": {},
   "outputs": [],
   "source": [
    "def analyze_sentiment(tweet):\n",
    "    sentiment = analyzer.polarity_scores(tweet)\n",
    "    compound_score = sentiment['compound']\n",
    "    if compound_score >= 0.5:\n",
    "        return \"Positive\"\n",
    "    elif compound_score <= -0.5:\n",
    "        return \"Negative\"\n",
    "    else:\n",
    "        return \"Neutral\""
   ]
  },
  {
   "cell_type": "code",
   "execution_count": 8,
   "metadata": {},
   "outputs": [],
   "source": [
    "tesla_tweets = data[data['Tweet'].str.lower().str.contains(\"tesla\",\"TSLA\")]"
   ]
  },
  {
   "cell_type": "code",
   "execution_count": 9,
   "metadata": {},
   "outputs": [
    {
     "name": "stderr",
     "output_type": "stream",
     "text": [
      "C:\\Users\\alrem\\AppData\\Local\\Temp\\ipykernel_21480\\1332975932.py:1: SettingWithCopyWarning: \n",
      "A value is trying to be set on a copy of a slice from a DataFrame.\n",
      "Try using .loc[row_indexer,col_indexer] = value instead\n",
      "\n",
      "See the caveats in the documentation: https://pandas.pydata.org/pandas-docs/stable/user_guide/indexing.html#returning-a-view-versus-a-copy\n",
      "  tesla_tweets['Sentiment'] = tesla_tweets['Tweet'].apply(analyze_sentiment)\n"
     ]
    }
   ],
   "source": [
    "tesla_tweets['Sentiment'] = tesla_tweets['Tweet'].apply(analyze_sentiment)"
   ]
  },
  {
   "cell_type": "code",
   "execution_count": 10,
   "metadata": {},
   "outputs": [
    {
     "name": "stdout",
     "output_type": "stream",
     "text": [
      "                                                  Tweet Sentiment\n",
      "28    @Bobby_Gupta Def not ok. Just sent a reminder ...   Neutral\n",
      "30    @JayCruicks_ATC What if we just made a mini ve...   Neutral\n",
      "36    Tesla Semi truck unveil & test ride tentativel...   Neutral\n",
      "41    RT @TeslaMotors: Supercharging Cities https://...   Neutral\n",
      "45    RT @TeslaMotors: Our new Supercharger route in...   Neutral\n",
      "...                                                 ...       ...\n",
      "3188  Tesla was just approved for a full Class 1 Mas...  Positive\n",
      "3190  Congrats to @dmetcalf for being the first to d...  Positive\n",
      "3193  Am happy to report that Tesla was narrowly cas...  Positive\n",
      "3212  Mass. judge denies auto dealers' demand to kil...   Neutral\n",
      "3217  RT @Jon_Favreau: My Model S just arrived and I...   Neutral\n",
      "\n",
      "[531 rows x 2 columns]\n"
     ]
    }
   ],
   "source": [
    "print(tesla_tweets[['Tweet', 'Sentiment']])"
   ]
  },
  {
   "cell_type": "code",
   "execution_count": 13,
   "metadata": {},
   "outputs": [],
   "source": [
    "# Initialisation des variables\n",
    "current_position = \"None\"  # Au début, aucune position n'est ouverte\n",
    "cash_balance = 10000.0  # Solde de trésorerie initial\n",
    "portfolio = {}  # Dictionnaire pour suivre les positions ouvertes\n",
    "\n",
    "\n",
    "\n",
    "# Logique de trading\n",
    "for i in range(len(tesla_tweets)):\n",
    "    tweet_sentiment = tesla_tweets.iloc[i]['Sentiment'] # Avec la fonction iloc, il est possible de récupérer toutes les données des variables à cette date\n",
    "    \n",
    "    # Simulez ici la logique d'achat et de vente en fonction du sentiment\n",
    "    if tweet_sentiment == \"Positive\":\n",
    "        if current_position == \"None\" and cash_balance > 0:\n",
    "            # Achat de Tesla\n",
    "            position_size = 0.2 * cash_balance  # Exemple : investir 20% du solde en TSLA\n",
    "            cash_balance -= position_size # Cela soustrait le montant de la position achetée (position_size) du solde de trésorerie actuel\n",
    "            portfolio[\"TSLA\"] = position_size # Cela ajoute la position achetée dans le dictionnaire portfolio en utilisant le symbole de l'action \"TSLA\" comme clé et la taille de la position (position_size) comme valeur. \n",
    "            current_position = \"Long\"\n",
    "            print(\"Achat de Tesla\")\n",
    "    elif tweet_sentiment == \"Negative\":\n",
    "        if current_position == \"Long\" and \"TSLA\" in portfolio:\n",
    "            # Vente de Tesla\n",
    "            position_size = portfolio[\"TSLA\"]\n",
    "            cash_balance += position_size\n",
    "            del portfolio[\"TSLA\"]\n",
    "            current_position = \"None\"\n",
    "            print(\"Vente de Tesla\")\n",
    "\n",
    "# Afficher le solde final du portefeuille\n",
    "print(\"Solde final du portefeuille :\", cash_balance)"
   ]
  },
  {
   "cell_type": "code",
   "execution_count": 12,
   "metadata": {},
   "outputs": [
    {
     "ename": "ModuleNotFoundError",
     "evalue": "No module named 'AlgorithmImports'",
     "output_type": "error",
     "traceback": [
      "\u001b[1;31m---------------------------------------------------------------------------\u001b[0m",
      "\u001b[1;31mModuleNotFoundError\u001b[0m                       Traceback (most recent call last)",
      "\u001b[1;32mc:\\Users\\alrem\\Desktop\\Algorithm\\Sentiment Analysis\\SentimentAnalysisOnTesla.ipynb Cell 12\u001b[0m line \u001b[0;36m2\n\u001b[0;32m      <a href='vscode-notebook-cell:/c%3A/Users/alrem/Desktop/Algorithm/Sentiment%20Analysis/SentimentAnalysisOnTesla.ipynb#X14sZmlsZQ%3D%3D?line=0'>1</a>\u001b[0m \u001b[39m# Importez les bibliothèques nécessaires de QuantConnect\u001b[39;00m\n\u001b[1;32m----> <a href='vscode-notebook-cell:/c%3A/Users/alrem/Desktop/Algorithm/Sentiment%20Analysis/SentimentAnalysisOnTesla.ipynb#X14sZmlsZQ%3D%3D?line=1'>2</a>\u001b[0m \u001b[39mfrom\u001b[39;00m \u001b[39mAlgorithmImports\u001b[39;00m \u001b[39mimport\u001b[39;00m \u001b[39m*\u001b[39m\n\u001b[0;32m      <a href='vscode-notebook-cell:/c%3A/Users/alrem/Desktop/Algorithm/Sentiment%20Analysis/SentimentAnalysisOnTesla.ipynb#X14sZmlsZQ%3D%3D?line=2'>3</a>\u001b[0m \u001b[39mfrom\u001b[39;00m \u001b[39mAlphaModelImports\u001b[39;00m \u001b[39mimport\u001b[39;00m \u001b[39m*\u001b[39m\n\u001b[0;32m      <a href='vscode-notebook-cell:/c%3A/Users/alrem/Desktop/Algorithm/Sentiment%20Analysis/SentimentAnalysisOnTesla.ipynb#X14sZmlsZQ%3D%3D?line=4'>5</a>\u001b[0m \u001b[39mclass\u001b[39;00m \u001b[39mSentimentBasedTradingAlgorithm\u001b[39;00m(QCAlgorithm):\n",
      "\u001b[1;31mModuleNotFoundError\u001b[0m: No module named 'AlgorithmImports'"
     ]
    }
   ],
   "source": [
    "# Importez les bibliothèques nécessaires de QuantConnect\n",
    "from AlgorithmImports import *\n",
    "from AlphaModelImports import *\n",
    "\n",
    "class SentimentBasedTradingAlgorithm(QCAlgorithm):\n",
    "    def Initialize(self):\n",
    "        self.SetCash(100000)  # Solde de départ en USD\n",
    "        self.SetStartDate(2023, 1, 1)\n",
    "        self.SetEndDate(2023, 1, 31)\n",
    "        \n",
    "        # Ajoutez le symbole de l'action Tesla\n",
    "        self.tesla = self.AddEquity(\"TSLA\")\n",
    "        \n",
    "        # Créez un résolveur de sentiment (à adapter en fonction de votre source de données)\n",
    "        self.sentiment_resolver = SentimentResolver()\n",
    "        \n",
    "        # Planifiez la fonction de trading pour chaque jour de trading\n",
    "        self.Schedule.On(self.DateRules.EveryDay(\"TSLA\"), self.TimeRules.AfterMarketOpen(\"TSLA\"), self.Trade)\n",
    "\n",
    "    def Trade(self):\n",
    "        # Obtenez le sentiment actuel des tweets sur Tesla (à adapter en fonction de votre résolveur de sentiment)\n",
    "        tweet_sentiment = self.sentiment_resolver.analyze_sentiment()\n",
    "        \n",
    "        # Si le sentiment est positif, achetez des actions Tesla\n",
    "        if tweet_sentiment == \"Positive\":\n",
    "            self.SetHoldings(\"TSLA\", 0.5)  # Investissez 50 % du capital dans Tesla\n",
    "        # Si le sentiment est négatif, vendez des actions Tesla\n",
    "        elif tweet_sentiment == \"Negative\":\n",
    "            self.SetHoldings(\"TSLA\", 0)  # Liquidation de la position\n",
    "        \n",
    "        # Affichez le sentiment et les positions\n",
    "        self.Debug(f\"Sentiment: {tweet_sentiment}\")\n",
    "        self.Debug(f\"Portfolio Holdings: {self.Portfolio['TSLA'].Quantity}\")\n",
    "\n",
    "# Classe SentimentResolver (à adapter en fonction de votre source de données)\n",
    "class SentimentResolver:\n",
    "    def analyze_sentiment(tweet):\n",
    "        sentiment = analyzer.polarity_scores(tweet)\n",
    "        compound_score = sentiment['compound']\n",
    "        if compound_score >= 0.5:\n",
    "            return \"Positive\"\n",
    "        elif compound_score <= -0.5:\n",
    "            return \"Negative\"\n",
    "        else:\n",
    "            return \"Neutral\"\n",
    "        \n",
    "# Lancez l'algorithme\n",
    "from AlgorithmImports import *\n",
    "from AlphaModelImports import *\n",
    "SentimentBasedTradingAlgorithm()"
   ]
  }
 ],
 "metadata": {
  "kernelspec": {
   "display_name": "Python 3",
   "language": "python",
   "name": "python3"
  },
  "language_info": {
   "codemirror_mode": {
    "name": "ipython",
    "version": 3
   },
   "file_extension": ".py",
   "mimetype": "text/x-python",
   "name": "python",
   "nbconvert_exporter": "python",
   "pygments_lexer": "ipython3",
   "version": "3.11.3"
  }
 },
 "nbformat": 4,
 "nbformat_minor": 2
}
